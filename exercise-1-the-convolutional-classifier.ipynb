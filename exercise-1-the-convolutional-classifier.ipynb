{
 "cells": [
  {
   "cell_type": "markdown",
   "id": "8895e549",
   "metadata": {
    "papermill": {
     "duration": 0.00412,
     "end_time": "2025-03-26T12:59:02.480783",
     "exception": false,
     "start_time": "2025-03-26T12:59:02.476663",
     "status": "completed"
    },
    "tags": []
   },
   "source": [
    "**This notebook is an exercise in the [Computer Vision](https://www.kaggle.com/learn/computer-vision) course.  You can reference the tutorial at [this link](https://www.kaggle.com/ryanholbrook/the-convolutional-classifier).**\n",
    "\n",
    "---\n"
   ]
  },
  {
   "cell_type": "markdown",
   "id": "02676228",
   "metadata": {
    "papermill": {
     "duration": 0.003344,
     "end_time": "2025-03-26T12:59:02.487982",
     "exception": false,
     "start_time": "2025-03-26T12:59:02.484638",
     "status": "completed"
    },
    "tags": []
   },
   "source": [
    "<blockquote style=\"margin-right:auto; margin-left:auto; padding: 1em; margin:24px;\">\n",
    "    <strong>Accelerate Training with a Kaggle GPU!</strong><br>\n",
    "Did you know Kaggle offers free time with a GPU accelerator? You can speed up training neural networks in this course by switching to <strong>GPU</strong> in the <em>Accelerator</em> option on the right. (It may already be turned on.) Two things to be aware of:\n",
    "<ul>\n",
    "<li>Changing the <em>Accelerator</em> option will cause the notebook session to restart. You'll need to rerun any setup code.\n",
    "<li>You can have only one GPU session at a time, so be sure to shut the notebook down after you've finished the exercise.\n",
    "</ul>\n",
    "</blockquote>"
   ]
  },
  {
   "cell_type": "markdown",
   "id": "2c221912",
   "metadata": {
    "papermill": {
     "duration": 0.003234,
     "end_time": "2025-03-26T12:59:02.494661",
     "exception": false,
     "start_time": "2025-03-26T12:59:02.491427",
     "status": "completed"
    },
    "tags": []
   },
   "source": [
    "# Introduction #\n",
    "\n",
    "In the tutorial, we saw how to build an image classifier by attaching a head of dense layers to a pretrained base. The base we used was from a model called **VGG16**. We saw that the VGG16 architecture was prone to overfitting this dataset. Over this course, you'll learn a number of ways you can improve upon this initial attempt.\n",
    "\n",
    "The first way you'll see is to use a base more appropriate to the dataset. The base this model comes from is called **InceptionV1** (also known as GoogLeNet). InceptionV1 was one of the early winners of the ImageNet competition. One of its successors, InceptionV4, is among the state of the art today.\n",
    "\n",
    "To get started, run the code cell below to set everything up."
   ]
  },
  {
   "cell_type": "code",
   "execution_count": 1,
   "id": "bf67ba61",
   "metadata": {
    "execution": {
     "iopub.execute_input": "2025-03-26T12:59:02.502943Z",
     "iopub.status.busy": "2025-03-26T12:59:02.502590Z",
     "iopub.status.idle": "2025-03-26T12:59:22.872749Z",
     "shell.execute_reply": "2025-03-26T12:59:22.871852Z"
    },
    "lines_to_next_cell": 2,
    "papermill": {
     "duration": 20.376694,
     "end_time": "2025-03-26T12:59:22.874783",
     "exception": false,
     "start_time": "2025-03-26T12:59:02.498089",
     "status": "completed"
    },
    "tags": []
   },
   "outputs": [
    {
     "name": "stderr",
     "output_type": "stream",
     "text": [
      "2025-03-26 12:59:05.152870: E external/local_xla/xla/stream_executor/cuda/cuda_dnn.cc:9261] Unable to register cuDNN factory: Attempting to register factory for plugin cuDNN when one has already been registered\n",
      "2025-03-26 12:59:05.153011: E external/local_xla/xla/stream_executor/cuda/cuda_fft.cc:607] Unable to register cuFFT factory: Attempting to register factory for plugin cuFFT when one has already been registered\n",
      "2025-03-26 12:59:05.286587: E external/local_xla/xla/stream_executor/cuda/cuda_blas.cc:1515] Unable to register cuBLAS factory: Attempting to register factory for plugin cuBLAS when one has already been registered\n"
     ]
    },
    {
     "name": "stdout",
     "output_type": "stream",
     "text": [
      "Found 5117 files belonging to 2 classes.\n",
      "Found 5051 files belonging to 2 classes.\n"
     ]
    }
   ],
   "source": [
    "# Setup feedback system\n",
    "from learntools.core import binder\n",
    "binder.bind(globals())\n",
    "from learntools.computer_vision.ex1 import *\n",
    "\n",
    "# Imports\n",
    "import os, warnings\n",
    "import matplotlib.pyplot as plt\n",
    "from matplotlib import gridspec\n",
    "\n",
    "import numpy as np\n",
    "import tensorflow as tf\n",
    "from tensorflow.keras.preprocessing import image_dataset_from_directory\n",
    "\n",
    "# Reproducability\n",
    "def set_seed(seed=31415):\n",
    "    np.random.seed(seed)\n",
    "    tf.random.set_seed(seed)\n",
    "    os.environ['PYTHONHASHSEED'] = str(seed)\n",
    "    os.environ['TF_DETERMINISTIC_OPS'] = '1'\n",
    "set_seed()\n",
    "\n",
    "# Set Matplotlib defaults\n",
    "plt.rc('figure', autolayout=True)\n",
    "plt.rc('axes', labelweight='bold', labelsize='large',\n",
    "       titleweight='bold', titlesize=18, titlepad=10)\n",
    "plt.rc('image', cmap='magma')\n",
    "warnings.filterwarnings(\"ignore\") # to clean up output cells\n",
    "\n",
    "\n",
    "# Load training and validation sets\n",
    "ds_train_ = image_dataset_from_directory(\n",
    "    '../input/car-or-truck/train',\n",
    "    labels='inferred',\n",
    "    label_mode='binary',\n",
    "    image_size=[128, 128],\n",
    "    interpolation='nearest',\n",
    "    batch_size=64,\n",
    "    shuffle=True,\n",
    ")\n",
    "ds_valid_ = image_dataset_from_directory(\n",
    "    '../input/car-or-truck/valid',\n",
    "    labels='inferred',\n",
    "    label_mode='binary',\n",
    "    image_size=[128, 128],\n",
    "    interpolation='nearest',\n",
    "    batch_size=64,\n",
    "    shuffle=False,\n",
    ")\n",
    "\n",
    "# Data Pipeline\n",
    "def convert_to_float(image, label):\n",
    "    image = tf.image.convert_image_dtype(image, dtype=tf.float32)\n",
    "    return image, label\n",
    "\n",
    "AUTOTUNE = tf.data.experimental.AUTOTUNE\n",
    "ds_train = (\n",
    "    ds_train_\n",
    "    .map(convert_to_float)\n",
    "    .cache()\n",
    "    .prefetch(buffer_size=AUTOTUNE)\n",
    ")\n",
    "ds_valid = (\n",
    "    ds_valid_\n",
    "    .map(convert_to_float)\n",
    "    .cache()\n",
    "    .prefetch(buffer_size=AUTOTUNE)\n",
    ")\n"
   ]
  },
  {
   "cell_type": "markdown",
   "id": "e83a0705",
   "metadata": {
    "papermill": {
     "duration": 0.003627,
     "end_time": "2025-03-26T12:59:22.882360",
     "exception": false,
     "start_time": "2025-03-26T12:59:22.878733",
     "status": "completed"
    },
    "tags": []
   },
   "source": [
    "The **InceptionV1** model pretrained on ImageNet is available in the [TensorFlow Hub](https://www.tensorflow.org/hub/) repository, but we'll load it from a local copy. Run this cell to load InceptionV1 for your base."
   ]
  },
  {
   "cell_type": "code",
   "execution_count": 2,
   "id": "6fd831cc",
   "metadata": {
    "execution": {
     "iopub.execute_input": "2025-03-26T12:59:22.890801Z",
     "iopub.status.busy": "2025-03-26T12:59:22.890491Z",
     "iopub.status.idle": "2025-03-26T12:59:26.157624Z",
     "shell.execute_reply": "2025-03-26T12:59:26.156669Z"
    },
    "lines_to_next_cell": 0,
    "papermill": {
     "duration": 3.273712,
     "end_time": "2025-03-26T12:59:26.159694",
     "exception": false,
     "start_time": "2025-03-26T12:59:22.885982",
     "status": "completed"
    },
    "tags": []
   },
   "outputs": [],
   "source": [
    "import tensorflow_hub as hub\n",
    "\n",
    "pretrained_base = tf.keras.models.load_model(\n",
    "    '../input/cv-course-models/cv-course-models/inceptionv1'\n",
    ")"
   ]
  },
  {
   "cell_type": "markdown",
   "id": "d3232bbc",
   "metadata": {
    "papermill": {
     "duration": 0.00353,
     "end_time": "2025-03-26T12:59:26.167405",
     "exception": false,
     "start_time": "2025-03-26T12:59:26.163875",
     "status": "completed"
    },
    "tags": []
   },
   "source": [
    "# 1) Define Pretrained Base #\n",
    "\n",
    "Now that you have a pretrained base to do our feature extraction, decide whether this base should be trainable or not."
   ]
  },
  {
   "cell_type": "code",
   "execution_count": 3,
   "id": "72dd2e25",
   "metadata": {
    "execution": {
     "iopub.execute_input": "2025-03-26T12:59:26.177101Z",
     "iopub.status.busy": "2025-03-26T12:59:26.176447Z",
     "iopub.status.idle": "2025-03-26T12:59:26.184325Z",
     "shell.execute_reply": "2025-03-26T12:59:26.183573Z"
    },
    "lines_to_next_cell": 0,
    "papermill": {
     "duration": 0.014444,
     "end_time": "2025-03-26T12:59:26.185836",
     "exception": false,
     "start_time": "2025-03-26T12:59:26.171392",
     "status": "completed"
    },
    "tags": []
   },
   "outputs": [
    {
     "data": {
      "application/javascript": [
       "parent.postMessage({\"jupyterEvent\": \"custom.exercise_interaction\", \"data\": {\"outcomeType\": 1, \"valueTowardsCompletion\": 0.25, \"interactionType\": 1, \"questionType\": 2, \"questionId\": \"1_Q1\", \"learnToolsVersion\": \"0.3.4\", \"failureMessage\": \"\", \"exceptionClass\": \"\", \"trace\": \"\"}}, \"*\")"
      ],
      "text/plain": [
       "<IPython.core.display.Javascript object>"
      ]
     },
     "metadata": {},
     "output_type": "display_data"
    },
    {
     "data": {
      "text/markdown": [
       "<span style=\"color:#33cc33\">Correct:</span> When doing transfer learning, it's generally not a good idea to retrain the entire base -- at least not without some care. The reason is that the random weights in the head will initially create large gradient updates, which propogate back into the base layers and destroy much of the pretraining. Using techniques known as **fine tuning** it's possible to further train the base on new data, but this requires some care to do well."
      ],
      "text/plain": [
       "Correct: When doing transfer learning, it's generally not a good idea to retrain the entire base -- at least not without some care. The reason is that the random weights in the head will initially create large gradient updates, which propogate back into the base layers and destroy much of the pretraining. Using techniques known as **fine tuning** it's possible to further train the base on new data, but this requires some care to do well."
      ]
     },
     "metadata": {},
     "output_type": "display_data"
    }
   ],
   "source": [
    "# YOUR_CODE_HERE\n",
    "pretrained_base.trainable = False\n",
    "\n",
    "# Check your answer\n",
    "q_1.check()"
   ]
  },
  {
   "cell_type": "code",
   "execution_count": 4,
   "id": "88497d75",
   "metadata": {
    "execution": {
     "iopub.execute_input": "2025-03-26T12:59:26.194419Z",
     "iopub.status.busy": "2025-03-26T12:59:26.194178Z",
     "iopub.status.idle": "2025-03-26T12:59:26.197641Z",
     "shell.execute_reply": "2025-03-26T12:59:26.196831Z"
    },
    "papermill": {
     "duration": 0.009574,
     "end_time": "2025-03-26T12:59:26.199230",
     "exception": false,
     "start_time": "2025-03-26T12:59:26.189656",
     "status": "completed"
    },
    "tags": []
   },
   "outputs": [],
   "source": [
    "# Lines below will give you a hint or solution code\n",
    "#q_1.hint()\n",
    "#q_1.solution()"
   ]
  },
  {
   "cell_type": "markdown",
   "id": "367a880d",
   "metadata": {
    "papermill": {
     "duration": 0.003712,
     "end_time": "2025-03-26T12:59:26.207695",
     "exception": false,
     "start_time": "2025-03-26T12:59:26.203983",
     "status": "completed"
    },
    "tags": []
   },
   "source": [
    "# 2) Attach Head #\n",
    "\n",
    "Now that the base is defined to do the feature extraction, create a head of `Dense` layers to perform the classification, following this diagram:\n",
    "\n",
    "<figure>\n",
    "<img src=\"https://storage.googleapis.com/kaggle-media/learn/images/i5VU7Ry.png\" alt=\"Diagram of the dense head.\">\n",
    "</figure>\n"
   ]
  },
  {
   "cell_type": "code",
   "execution_count": 5,
   "id": "adc64c1f",
   "metadata": {
    "execution": {
     "iopub.execute_input": "2025-03-26T12:59:26.216387Z",
     "iopub.status.busy": "2025-03-26T12:59:26.215870Z",
     "iopub.status.idle": "2025-03-26T12:59:26.232495Z",
     "shell.execute_reply": "2025-03-26T12:59:26.231695Z"
    },
    "lines_to_next_cell": 0,
    "papermill": {
     "duration": 0.022832,
     "end_time": "2025-03-26T12:59:26.234230",
     "exception": false,
     "start_time": "2025-03-26T12:59:26.211398",
     "status": "completed"
    },
    "tags": []
   },
   "outputs": [
    {
     "data": {
      "application/javascript": [
       "parent.postMessage({\"jupyterEvent\": \"custom.exercise_interaction\", \"data\": {\"outcomeType\": 1, \"valueTowardsCompletion\": 0.25, \"interactionType\": 1, \"questionType\": 2, \"questionId\": \"2_Q2\", \"learnToolsVersion\": \"0.3.4\", \"failureMessage\": \"\", \"exceptionClass\": \"\", \"trace\": \"\"}}, \"*\")"
      ],
      "text/plain": [
       "<IPython.core.display.Javascript object>"
      ]
     },
     "metadata": {},
     "output_type": "display_data"
    },
    {
     "data": {
      "text/markdown": [
       "<span style=\"color:#33cc33\">Correct</span>"
      ],
      "text/plain": [
       "Correct"
      ]
     },
     "metadata": {},
     "output_type": "display_data"
    }
   ],
   "source": [
    "from tensorflow import keras\n",
    "from tensorflow.keras import layers\n",
    "\n",
    "model = keras.Sequential([\n",
    "    pretrained_base,\n",
    "    layers.Flatten(),\n",
    "    # YOUR CODE HERE. Attach a head of dense layers.\n",
    "    layers.Dense(6, activation = 'relu'),\n",
    "    layers.Dense(1, activation = 'sigmoid')\n",
    "])\n",
    "\n",
    "# Check your answer\n",
    "q_2.check()"
   ]
  },
  {
   "cell_type": "code",
   "execution_count": 6,
   "id": "f289ddad",
   "metadata": {
    "execution": {
     "iopub.execute_input": "2025-03-26T12:59:26.243446Z",
     "iopub.status.busy": "2025-03-26T12:59:26.242864Z",
     "iopub.status.idle": "2025-03-26T12:59:26.246293Z",
     "shell.execute_reply": "2025-03-26T12:59:26.245496Z"
    },
    "papermill": {
     "duration": 0.009667,
     "end_time": "2025-03-26T12:59:26.247812",
     "exception": false,
     "start_time": "2025-03-26T12:59:26.238145",
     "status": "completed"
    },
    "tags": []
   },
   "outputs": [],
   "source": [
    "# Lines below will give you a hint or solution code\n",
    "#q_2.hint()\n",
    "#q_2.solution()"
   ]
  },
  {
   "cell_type": "markdown",
   "id": "76fc53ee",
   "metadata": {
    "papermill": {
     "duration": 0.003781,
     "end_time": "2025-03-26T12:59:26.255542",
     "exception": false,
     "start_time": "2025-03-26T12:59:26.251761",
     "status": "completed"
    },
    "tags": []
   },
   "source": [
    "# 3) Train #\n",
    "\n",
    "Before training a model in Keras, you need to specify an *optimizer* to perform the gradient descent, a *loss function* to be minimized, and (optionally) any *performance metrics*. The optimization algorithm we'll use for this course is called [\"Adam\"](https://keras.io/api/optimizers/adam/), which generally performs well regardless of what kind of problem you're trying to solve.\n",
    "\n",
    "The loss and the metrics, however, need to match the kind of problem you're trying to solve. Our problem is a **binary classification** problem: `Car` coded as 0, and `Truck` coded as 1. Choose an appropriate loss and an appropriate accuracy metric for binary classification."
   ]
  },
  {
   "cell_type": "code",
   "execution_count": 7,
   "id": "af62391d",
   "metadata": {
    "execution": {
     "iopub.execute_input": "2025-03-26T12:59:26.264766Z",
     "iopub.status.busy": "2025-03-26T12:59:26.264158Z",
     "iopub.status.idle": "2025-03-26T12:59:26.289071Z",
     "shell.execute_reply": "2025-03-26T12:59:26.288256Z"
    },
    "lines_to_next_cell": 0,
    "papermill": {
     "duration": 0.031083,
     "end_time": "2025-03-26T12:59:26.290625",
     "exception": false,
     "start_time": "2025-03-26T12:59:26.259542",
     "status": "completed"
    },
    "tags": []
   },
   "outputs": [
    {
     "data": {
      "application/javascript": [
       "parent.postMessage({\"jupyterEvent\": \"custom.exercise_interaction\", \"data\": {\"outcomeType\": 1, \"valueTowardsCompletion\": 0.25, \"interactionType\": 1, \"questionType\": 2, \"questionId\": \"3_Q3\", \"learnToolsVersion\": \"0.3.4\", \"failureMessage\": \"\", \"exceptionClass\": \"\", \"trace\": \"\"}}, \"*\")"
      ],
      "text/plain": [
       "<IPython.core.display.Javascript object>"
      ]
     },
     "metadata": {},
     "output_type": "display_data"
    },
    {
     "data": {
      "text/markdown": [
       "<span style=\"color:#33cc33\">Correct</span>"
      ],
      "text/plain": [
       "Correct"
      ]
     },
     "metadata": {},
     "output_type": "display_data"
    }
   ],
   "source": [
    "# YOUR CODE HERE: what loss function should you use for a binary\n",
    "# classification problem? (Your answer for each should be a string.)\n",
    "optimizer = tf.keras.optimizers.Adam(epsilon=0.01)\n",
    "model.compile(\n",
    "    optimizer=optimizer,\n",
    "    loss = 'binary_crossentropy',\n",
    "    metrics=['binary_accuracy'],\n",
    ")\n",
    "\n",
    "# Check your answer\n",
    "q_3.check()"
   ]
  },
  {
   "cell_type": "code",
   "execution_count": 8,
   "id": "83fa4198",
   "metadata": {
    "execution": {
     "iopub.execute_input": "2025-03-26T12:59:26.299956Z",
     "iopub.status.busy": "2025-03-26T12:59:26.299452Z",
     "iopub.status.idle": "2025-03-26T12:59:26.302821Z",
     "shell.execute_reply": "2025-03-26T12:59:26.302025Z"
    },
    "lines_to_next_cell": 0,
    "papermill": {
     "duration": 0.009627,
     "end_time": "2025-03-26T12:59:26.304384",
     "exception": false,
     "start_time": "2025-03-26T12:59:26.294757",
     "status": "completed"
    },
    "tags": []
   },
   "outputs": [],
   "source": [
    "# Lines below will give you a hint or solution code\n",
    "#q_3.hint()\n",
    "#q_3.solution()"
   ]
  },
  {
   "cell_type": "code",
   "execution_count": 9,
   "id": "08192c1e",
   "metadata": {
    "execution": {
     "iopub.execute_input": "2025-03-26T12:59:26.313878Z",
     "iopub.status.busy": "2025-03-26T12:59:26.313357Z",
     "iopub.status.idle": "2025-03-26T13:01:21.194398Z",
     "shell.execute_reply": "2025-03-26T13:01:21.193440Z"
    },
    "papermill": {
     "duration": 114.8875,
     "end_time": "2025-03-26T13:01:21.196135",
     "exception": false,
     "start_time": "2025-03-26T12:59:26.308635",
     "status": "completed"
    },
    "tags": []
   },
   "outputs": [
    {
     "name": "stdout",
     "output_type": "stream",
     "text": [
      "Epoch 1/30\n"
     ]
    },
    {
     "name": "stderr",
     "output_type": "stream",
     "text": [
      "WARNING: All log messages before absl::InitializeLog() is called are written to STDERR\n",
      "I0000 00:00:1742993973.324349      75 device_compiler.h:186] Compiled cluster using XLA!  This line is logged at most once for the lifetime of the process.\n"
     ]
    },
    {
     "name": "stdout",
     "output_type": "stream",
     "text": [
      "80/80 [==============================] - 18s 142ms/step - loss: 0.6579 - binary_accuracy: 0.5706 - val_loss: 0.6166 - val_binary_accuracy: 0.5793\n",
      "Epoch 2/30\n",
      "80/80 [==============================] - 3s 42ms/step - loss: 0.5930 - binary_accuracy: 0.6400 - val_loss: 0.5602 - val_binary_accuracy: 0.7163\n",
      "Epoch 3/30\n",
      "80/80 [==============================] - 3s 42ms/step - loss: 0.5492 - binary_accuracy: 0.7575 - val_loss: 0.5259 - val_binary_accuracy: 0.7664\n",
      "Epoch 4/30\n",
      "80/80 [==============================] - 3s 42ms/step - loss: 0.5142 - binary_accuracy: 0.7862 - val_loss: 0.4465 - val_binary_accuracy: 0.7961\n",
      "Epoch 5/30\n",
      "80/80 [==============================] - 3s 42ms/step - loss: 0.4125 - binary_accuracy: 0.8159 - val_loss: 0.3955 - val_binary_accuracy: 0.8270\n",
      "Epoch 6/30\n",
      "80/80 [==============================] - 3s 42ms/step - loss: 0.3809 - binary_accuracy: 0.8343 - val_loss: 0.3795 - val_binary_accuracy: 0.8341\n",
      "Epoch 7/30\n",
      "80/80 [==============================] - 3s 42ms/step - loss: 0.3666 - binary_accuracy: 0.8421 - val_loss: 0.3710 - val_binary_accuracy: 0.8377\n",
      "Epoch 8/30\n",
      "80/80 [==============================] - 3s 42ms/step - loss: 0.3561 - binary_accuracy: 0.8460 - val_loss: 0.3651 - val_binary_accuracy: 0.8406\n",
      "Epoch 9/30\n",
      "80/80 [==============================] - 3s 42ms/step - loss: 0.3476 - binary_accuracy: 0.8499 - val_loss: 0.3605 - val_binary_accuracy: 0.8436\n",
      "Epoch 10/30\n",
      "80/80 [==============================] - 3s 42ms/step - loss: 0.3404 - binary_accuracy: 0.8562 - val_loss: 0.3569 - val_binary_accuracy: 0.8444\n",
      "Epoch 11/30\n",
      "80/80 [==============================] - 3s 42ms/step - loss: 0.3339 - binary_accuracy: 0.8601 - val_loss: 0.3540 - val_binary_accuracy: 0.8462\n",
      "Epoch 12/30\n",
      "80/80 [==============================] - 3s 42ms/step - loss: 0.3282 - binary_accuracy: 0.8646 - val_loss: 0.3515 - val_binary_accuracy: 0.8483\n",
      "Epoch 13/30\n",
      "80/80 [==============================] - 3s 42ms/step - loss: 0.3229 - binary_accuracy: 0.8669 - val_loss: 0.3494 - val_binary_accuracy: 0.8483\n",
      "Epoch 14/30\n",
      "80/80 [==============================] - 3s 42ms/step - loss: 0.3180 - binary_accuracy: 0.8702 - val_loss: 0.3476 - val_binary_accuracy: 0.8495\n",
      "Epoch 15/30\n",
      "80/80 [==============================] - 3s 42ms/step - loss: 0.3136 - binary_accuracy: 0.8718 - val_loss: 0.3461 - val_binary_accuracy: 0.8501\n",
      "Epoch 16/30\n",
      "80/80 [==============================] - 3s 42ms/step - loss: 0.3094 - binary_accuracy: 0.8730 - val_loss: 0.3447 - val_binary_accuracy: 0.8499\n",
      "Epoch 17/30\n",
      "80/80 [==============================] - 3s 42ms/step - loss: 0.3055 - binary_accuracy: 0.8751 - val_loss: 0.3436 - val_binary_accuracy: 0.8501\n",
      "Epoch 18/30\n",
      "80/80 [==============================] - 3s 42ms/step - loss: 0.3018 - binary_accuracy: 0.8777 - val_loss: 0.3426 - val_binary_accuracy: 0.8499\n",
      "Epoch 19/30\n",
      "80/80 [==============================] - 3s 41ms/step - loss: 0.2983 - binary_accuracy: 0.8790 - val_loss: 0.3419 - val_binary_accuracy: 0.8509\n",
      "Epoch 20/30\n",
      "80/80 [==============================] - 3s 42ms/step - loss: 0.2949 - binary_accuracy: 0.8808 - val_loss: 0.3410 - val_binary_accuracy: 0.8531\n",
      "Epoch 21/30\n",
      "80/80 [==============================] - 3s 41ms/step - loss: 0.2916 - binary_accuracy: 0.8814 - val_loss: 0.3400 - val_binary_accuracy: 0.8539\n",
      "Epoch 22/30\n",
      "80/80 [==============================] - 3s 41ms/step - loss: 0.2884 - binary_accuracy: 0.8835 - val_loss: 0.3402 - val_binary_accuracy: 0.8541\n",
      "Epoch 23/30\n",
      "80/80 [==============================] - 3s 42ms/step - loss: 0.2847 - binary_accuracy: 0.8843 - val_loss: 0.3394 - val_binary_accuracy: 0.8543\n",
      "Epoch 24/30\n",
      "80/80 [==============================] - 3s 41ms/step - loss: 0.2816 - binary_accuracy: 0.8849 - val_loss: 0.3397 - val_binary_accuracy: 0.8531\n",
      "Epoch 25/30\n",
      "80/80 [==============================] - 3s 41ms/step - loss: 0.2786 - binary_accuracy: 0.8865 - val_loss: 0.3391 - val_binary_accuracy: 0.8535\n",
      "Epoch 26/30\n",
      "80/80 [==============================] - 3s 42ms/step - loss: 0.2759 - binary_accuracy: 0.8867 - val_loss: 0.3397 - val_binary_accuracy: 0.8539\n",
      "Epoch 27/30\n",
      "80/80 [==============================] - 3s 41ms/step - loss: 0.2733 - binary_accuracy: 0.8868 - val_loss: 0.3394 - val_binary_accuracy: 0.8529\n",
      "Epoch 28/30\n",
      "80/80 [==============================] - 3s 41ms/step - loss: 0.2704 - binary_accuracy: 0.8888 - val_loss: 0.3404 - val_binary_accuracy: 0.8535\n",
      "Epoch 29/30\n",
      "80/80 [==============================] - 3s 41ms/step - loss: 0.2677 - binary_accuracy: 0.8917 - val_loss: 0.3383 - val_binary_accuracy: 0.8535\n",
      "Epoch 30/30\n",
      "80/80 [==============================] - 3s 42ms/step - loss: 0.2647 - binary_accuracy: 0.8935 - val_loss: 0.3378 - val_binary_accuracy: 0.8535\n"
     ]
    }
   ],
   "source": [
    "history = model.fit(\n",
    "    ds_train,\n",
    "    validation_data=ds_valid,\n",
    "    epochs=30,\n",
    ")"
   ]
  },
  {
   "cell_type": "markdown",
   "id": "88914c51",
   "metadata": {
    "papermill": {
     "duration": 0.045921,
     "end_time": "2025-03-26T13:01:21.292321",
     "exception": false,
     "start_time": "2025-03-26T13:01:21.246400",
     "status": "completed"
    },
    "tags": []
   },
   "source": [
    "Run the cell below to plot the loss and metric curves for this training run."
   ]
  },
  {
   "cell_type": "code",
   "execution_count": 10,
   "id": "6d54e87b",
   "metadata": {
    "execution": {
     "iopub.execute_input": "2025-03-26T13:01:21.381007Z",
     "iopub.status.busy": "2025-03-26T13:01:21.380631Z",
     "iopub.status.idle": "2025-03-26T13:01:21.928565Z",
     "shell.execute_reply": "2025-03-26T13:01:21.927696Z"
    },
    "papermill": {
     "duration": 0.593285,
     "end_time": "2025-03-26T13:01:21.930257",
     "exception": false,
     "start_time": "2025-03-26T13:01:21.336972",
     "status": "completed"
    },
    "tags": []
   },
   "outputs": [
    {
     "data": {
      "image/png": "[encoded data removed]",
      "text/plain": [
       "<Figure size 640x480 with 1 Axes>"
      ]
     },
     "metadata": {},
     "output_type": "display_data"
    },
    {
     "data": {
      "image/png": "[encoded data removed]",
      "text/plain": [
       "<Figure size 640x480 with 1 Axes>"
      ]
     },
     "metadata": {},
     "output_type": "display_data"
    }
   ],
   "source": [
    "import pandas as pd\n",
    "history_frame = pd.DataFrame(history.history)\n",
    "history_frame.loc[:, ['loss', 'val_loss']].plot()\n",
    "history_frame.loc[:, ['binary_accuracy', 'val_binary_accuracy']].plot();"
   ]
  },
  {
   "cell_type": "markdown",
   "id": "e072f82d",
   "metadata": {
    "papermill": {
     "duration": 0.043953,
     "end_time": "2025-03-26T13:01:22.062129",
     "exception": false,
     "start_time": "2025-03-26T13:01:22.018176",
     "status": "completed"
    },
    "tags": []
   },
   "source": [
    "# 4) Examine Loss and Accuracy #\n",
    "\n",
    "Do you notice a difference between these learning curves and the curves for VGG16 from the tutorial? What does this difference tell you about what this model (InceptionV2) learned compared to VGG16? Are there ways in which one is better than the other? Worse?\n",
    "\n",
    "After you've thought about it, run the cell below to see the answer."
   ]
  },
  {
   "cell_type": "code",
   "execution_count": 11,
   "id": "bbf01820",
   "metadata": {
    "execution": {
     "iopub.execute_input": "2025-03-26T13:01:22.151120Z",
     "iopub.status.busy": "2025-03-26T13:01:22.150767Z",
     "iopub.status.idle": "2025-03-26T13:01:22.158018Z",
     "shell.execute_reply": "2025-03-26T13:01:22.157036Z"
    },
    "papermill": {
     "duration": 0.053441,
     "end_time": "2025-03-26T13:01:22.159643",
     "exception": false,
     "start_time": "2025-03-26T13:01:22.106202",
     "status": "completed"
    },
    "tags": []
   },
   "outputs": [
    {
     "data": {
      "application/javascript": [
       "parent.postMessage({\"jupyterEvent\": \"custom.exercise_interaction\", \"data\": {\"outcomeType\": 1, \"valueTowardsCompletion\": 0.25, \"interactionType\": 1, \"questionType\": 4, \"questionId\": \"4_Q4\", \"learnToolsVersion\": \"0.3.4\", \"failureMessage\": \"\", \"exceptionClass\": \"\", \"trace\": \"\"}}, \"*\")"
      ],
      "text/plain": [
       "<IPython.core.display.Javascript object>"
      ]
     },
     "metadata": {},
     "output_type": "display_data"
    },
    {
     "data": {
      "text/markdown": [
       "<span style=\"color:#33cc33\">Correct:</span> \n",
       "\n",
       "That the training loss and validation loss stay fairly close is evidence that the model isn't just memorizing the training data, but rather learning general properties of the two classes. But, because this model converges at a loss greater than the VGG16 model, it's likely that it is underfitting some, and could benefit from some extra capacity.\n"
      ],
      "text/plain": [
       "Correct: \n",
       "\n",
       "That the training loss and validation loss stay fairly close is evidence that the model isn't just memorizing the training data, but rather learning general properties of the two classes. But, because this model converges at a loss greater than the VGG16 model, it's likely that it is underfitting some, and could benefit from some extra capacity."
      ]
     },
     "metadata": {},
     "output_type": "display_data"
    }
   ],
   "source": [
    "# View the solution (Run this code cell to receive credit!)\n",
    "q_4.check()"
   ]
  },
  {
   "cell_type": "markdown",
   "id": "067831ca",
   "metadata": {
    "papermill": {
     "duration": 0.043388,
     "end_time": "2025-03-26T13:01:22.246875",
     "exception": false,
     "start_time": "2025-03-26T13:01:22.203487",
     "status": "completed"
    },
    "tags": []
   },
   "source": [
    "# Conclusion #\n",
    "\n",
    "In this first lesson, you learned the basics of **convolutional image classifiers**, that they consist of a **base** for extracting features from images, and a **head** which uses the features to decide the image's class. You also saw how to build a classifier with **transfer learning** on pretrained base. "
   ]
  },
  {
   "cell_type": "markdown",
   "id": "86553592",
   "metadata": {
    "papermill": {
     "duration": 0.043072,
     "end_time": "2025-03-26T13:01:22.333255",
     "exception": false,
     "start_time": "2025-03-26T13:01:22.290183",
     "status": "completed"
    },
    "tags": []
   },
   "source": [
    "# Keep Going #\n",
    "\n",
    "Move on to [**Lesson 2**](https://www.kaggle.com/ryanholbrook/convolution-and-relu) for a detailed look at how the base does this feature extraction. (It's really cool!)"
   ]
  },
  {
   "cell_type": "markdown",
   "id": "cbbd0428",
   "metadata": {
    "papermill": {
     "duration": 0.043342,
     "end_time": "2025-03-26T13:01:22.420058",
     "exception": false,
     "start_time": "2025-03-26T13:01:22.376716",
     "status": "completed"
    },
    "tags": []
   },
   "source": [
    "---\n",
    "\n",
    "\n",
    "\n",
    "\n",
    "*Have questions or comments? Visit the [course discussion forum](https://www.kaggle.com/learn/computer-vision/discussion) to chat with other learners.*"
   ]
  }
 ],
 "metadata": {
  "jupytext": {
   "formats": "ipynb,md",
   "split_at_heading": true
  },
  "kaggle": {
   "accelerator": "gpu",
   "dataSources": [
    {
     "datasetId": 708136,
     "sourceId": 1338830,
     "sourceType": "datasetVersion"
    },
    {
     "datasetId": 701538,
     "sourceId": 1363948,
     "sourceType": "datasetVersion"
    },
    {
     "datasetId": 878523,
     "sourceId": 1495782,
     "sourceType": "datasetVersion"
    }
   ],
   "dockerImageVersionId": 30648,
   "isGpuEnabled": true,
   "isInternetEnabled": false,
   "language": "python",
   "sourceType": "notebook"
  },
  "kernelspec": {
   "display_name": "Python 3",
   "language": "python",
   "name": "python3"
  },
  "language_info": {
   "codemirror_mode": {
    "name": "ipython",
    "version": 3
   },
   "file_extension": ".py",
   "mimetype": "text/x-python",
   "name": "python",
   "nbconvert_exporter": "python",
   "pygments_lexer": "ipython3",
   "version": "3.10.13"
  },
  "papermill": {
   "default_parameters": {},
   "duration": 146.217268,
   "end_time": "2025-03-26T13:01:26.108736",
   "environment_variables": {},
   "exception": null,
   "input_path": "__notebook__.ipynb",
   "output_path": "__notebook__.ipynb",
   "parameters": {},
   "start_time": "2025-03-26T12:58:59.891468",
   "version": "2.5.0"
  }
 },
 "nbformat": 4,
 "nbformat_minor": 5
}
