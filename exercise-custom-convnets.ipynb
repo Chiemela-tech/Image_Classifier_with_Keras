{
 "cells": [
  {
   "cell_type": "markdown",
   "id": "9bfab7d9",
   "metadata": {
    "papermill": {
     "duration": 0.007402,
     "end_time": "2025-03-26T14:42:35.964440",
     "exception": false,
     "start_time": "2025-03-26T14:42:35.957038",
     "status": "completed"
    },
    "tags": []
   },
   "source": [
    "**This notebook is an exercise in the [Computer Vision](https://www.kaggle.com/learn/computer-vision) course.  You can reference the tutorial at [this link](https://www.kaggle.com/ryanholbrook/custom-convnets).**\n",
    "\n",
    "---\n"
   ]
  },
  {
   "cell_type": "markdown",
   "id": "4cc615c6",
   "metadata": {
    "papermill": {
     "duration": 0.005119,
     "end_time": "2025-03-26T14:42:35.976487",
     "exception": false,
     "start_time": "2025-03-26T14:42:35.971368",
     "status": "completed"
    },
    "tags": []
   },
   "source": [
    "# Introduction #\n",
    "\n",
    "In these exercises, you'll build a custom convnet with performance competitive to the VGG16 model from Lesson 1.\n",
    "\n",
    "Get started by running the code cell below."
   ]
  },
  {
   "cell_type": "code",
   "execution_count": 1,
   "id": "b17b4ba8",
   "metadata": {
    "execution": {
     "iopub.execute_input": "2025-03-26T14:42:35.986045Z",
     "iopub.status.busy": "2025-03-26T14:42:35.985040Z",
     "iopub.status.idle": "2025-03-26T14:43:04.921386Z",
     "shell.execute_reply": "2025-03-26T14:43:04.920232Z"
    },
    "papermill": {
     "duration": 28.943846,
     "end_time": "2025-03-26T14:43:04.923906",
     "exception": false,
     "start_time": "2025-03-26T14:42:35.980060",
     "status": "completed"
    },
    "tags": []
   },
   "outputs": [
    {
     "name": "stderr",
     "output_type": "stream",
     "text": [
      "2025-03-26 14:42:39.006479: E external/local_xla/xla/stream_executor/cuda/cuda_dnn.cc:9261] Unable to register cuDNN factory: Attempting to register factory for plugin cuDNN when one has already been registered\n",
      "2025-03-26 14:42:39.006684: E external/local_xla/xla/stream_executor/cuda/cuda_fft.cc:607] Unable to register cuFFT factory: Attempting to register factory for plugin cuFFT when one has already been registered\n",
      "2025-03-26 14:42:39.155950: E external/local_xla/xla/stream_executor/cuda/cuda_blas.cc:1515] Unable to register cuBLAS factory: Attempting to register factory for plugin cuBLAS when one has already been registered\n"
     ]
    },
    {
     "name": "stdout",
     "output_type": "stream",
     "text": [
      "Found 5117 files belonging to 2 classes.\n",
      "Found 5051 files belonging to 2 classes.\n"
     ]
    }
   ],
   "source": [
    "# Setup feedback system\n",
    "from learntools.core import binder\n",
    "binder.bind(globals())\n",
    "from learntools.computer_vision.ex5 import *\n",
    "\n",
    "# Imports\n",
    "import os, warnings\n",
    "import matplotlib.pyplot as plt\n",
    "from matplotlib import gridspec\n",
    "\n",
    "import numpy as np\n",
    "import tensorflow as tf\n",
    "from tensorflow.keras.preprocessing import image_dataset_from_directory\n",
    "\n",
    "# Reproducability\n",
    "def set_seed(seed=31415):\n",
    "    np.random.seed(seed)\n",
    "    tf.random.set_seed(seed)\n",
    "    os.environ['PYTHONHASHSEED'] = str(seed)\n",
    "    os.environ['TF_DETERMINISTIC_OPS'] = '1'\n",
    "set_seed()\n",
    "\n",
    "# Set Matplotlib defaults\n",
    "plt.rc('figure', autolayout=True)\n",
    "plt.rc('axes', labelweight='bold', labelsize='large',\n",
    "       titleweight='bold', titlesize=18, titlepad=10)\n",
    "plt.rc('image', cmap='magma')\n",
    "warnings.filterwarnings(\"ignore\") # to clean up output cells\n",
    "\n",
    "\n",
    "# Load training and validation sets\n",
    "ds_train_ = image_dataset_from_directory(\n",
    "    '../input/car-or-truck/train',\n",
    "    labels='inferred',\n",
    "    label_mode='binary',\n",
    "    image_size=[128, 128],\n",
    "    interpolation='nearest',\n",
    "    batch_size=64,\n",
    "    shuffle=True,\n",
    ")\n",
    "ds_valid_ = image_dataset_from_directory(\n",
    "    '../input/car-or-truck/valid',\n",
    "    labels='inferred',\n",
    "    label_mode='binary',\n",
    "    image_size=[128, 128],\n",
    "    interpolation='nearest',\n",
    "    batch_size=64,\n",
    "    shuffle=False,\n",
    ")\n",
    "\n",
    "# Data Pipeline\n",
    "def convert_to_float(image, label):\n",
    "    image = tf.image.convert_image_dtype(image, dtype=tf.float32)\n",
    "    return image, label\n",
    "\n",
    "AUTOTUNE = tf.data.experimental.AUTOTUNE\n",
    "ds_train = (\n",
    "    ds_train_\n",
    "    .map(convert_to_float)\n",
    "    .cache()\n",
    "    .prefetch(buffer_size=AUTOTUNE)\n",
    ")\n",
    "ds_valid = (\n",
    "    ds_valid_\n",
    "    .map(convert_to_float)\n",
    "    .cache()\n",
    "    .prefetch(buffer_size=AUTOTUNE)\n",
    ")\n"
   ]
  },
  {
   "cell_type": "markdown",
   "id": "3719502e",
   "metadata": {
    "papermill": {
     "duration": 0.003919,
     "end_time": "2025-03-26T14:43:04.931806",
     "exception": false,
     "start_time": "2025-03-26T14:43:04.927887",
     "status": "completed"
    },
    "tags": []
   },
   "source": [
    "# Design a Convnet #\n",
    "\n",
    "Let's design a convolutional network with a block architecture like we saw in the tutorial. The model from the example had three blocks, each with a single convolutional layer. Its performance on the \"Car or Truck\" problem was okay, but far from what the pretrained VGG16 could achieve. It might be that our simple network lacks the ability to extract sufficiently complex features. We could try improving the model either by adding more blocks or by adding convolutions to the blocks we have.\n",
    "\n",
    "Let's go with the second approach. We'll keep the three block structure, but increase the number of `Conv2D` layer in the second block to two, and in the third block to three.\n",
    "\n",
    "<figure>\n",
    "<!-- <img src=\"./images/2-convmodel-2.png\" width=\"250\" alt=\"Diagram of a convolutional model.\"> -->\n",
    "<img src=\"https://storage.googleapis.com/kaggle-media/learn/images/Vko6nCK.png\" width=\"250\" alt=\"Diagram of a convolutional model.\">\n",
    "</figure>\n",
    "\n",
    "# 1) Define Model #\n",
    "\n",
    "Given the diagram above, complete the model by defining the layers of the third block."
   ]
  },
  {
   "cell_type": "code",
   "execution_count": 2,
   "id": "98b5b6c2",
   "metadata": {
    "execution": {
     "iopub.execute_input": "2025-03-26T14:43:04.940972Z",
     "iopub.status.busy": "2025-03-26T14:43:04.940560Z",
     "iopub.status.idle": "2025-03-26T14:43:05.114628Z",
     "shell.execute_reply": "2025-03-26T14:43:05.113548Z"
    },
    "lines_to_next_cell": 0,
    "papermill": {
     "duration": 0.180951,
     "end_time": "2025-03-26T14:43:05.116477",
     "exception": false,
     "start_time": "2025-03-26T14:43:04.935526",
     "status": "completed"
    },
    "tags": []
   },
   "outputs": [
    {
     "data": {
      "application/javascript": [
       "parent.postMessage({\"jupyterEvent\": \"custom.exercise_interaction\", \"data\": {\"outcomeType\": 1, \"valueTowardsCompletion\": 0.3333333333333333, \"interactionType\": 1, \"questionType\": 2, \"questionId\": \"1_Q1\", \"learnToolsVersion\": \"0.3.4\", \"failureMessage\": \"\", \"exceptionClass\": \"\", \"trace\": \"\"}}, \"*\")"
      ],
      "text/plain": [
       "<IPython.core.display.Javascript object>"
      ]
     },
     "metadata": {},
     "output_type": "display_data"
    },
    {
     "data": {
      "text/markdown": [
       "<span style=\"color:#33cc33\">Correct</span>"
      ],
      "text/plain": [
       "Correct"
      ]
     },
     "metadata": {},
     "output_type": "display_data"
    }
   ],
   "source": [
    "from tensorflow import keras\n",
    "from tensorflow.keras import layers\n",
    "\n",
    "model = keras.Sequential([\n",
    "    # Block One\n",
    "    layers.Conv2D(filters=32, kernel_size=3, activation='relu', padding='same',\n",
    "                  input_shape=[128, 128, 3]),\n",
    "    layers.MaxPool2D(),\n",
    "\n",
    "    # Block Two\n",
    "    layers.Conv2D(filters=64, kernel_size=3, activation='relu', padding='same'),\n",
    "    layers.MaxPool2D(),\n",
    "\n",
    "    # Block Three\n",
    "    # YOUR CODE HERE\n",
    "    layers.Conv2D(filters=128, kernel_size=3, activation='relu', padding='same'),\n",
    "    layers.Conv2D(filters=128, kernel_size=3, activation='relu', padding='same'),\n",
    "    layers.MaxPool2D(),\n",
    "\n",
    "    # Head\n",
    "    layers.Flatten(),\n",
    "    layers.Dense(6, activation='relu'),\n",
    "    layers.Dropout(0.2),\n",
    "    layers.Dense(1, activation='sigmoid'),\n",
    "])\n",
    "\n",
    "# Check your answer\n",
    "q_1.check()"
   ]
  },
  {
   "cell_type": "code",
   "execution_count": 3,
   "id": "3fdce4d1",
   "metadata": {
    "execution": {
     "iopub.execute_input": "2025-03-26T14:43:05.126252Z",
     "iopub.status.busy": "2025-03-26T14:43:05.125897Z",
     "iopub.status.idle": "2025-03-26T14:43:05.130109Z",
     "shell.execute_reply": "2025-03-26T14:43:05.129169Z"
    },
    "papermill": {
     "duration": 0.011361,
     "end_time": "2025-03-26T14:43:05.131893",
     "exception": false,
     "start_time": "2025-03-26T14:43:05.120532",
     "status": "completed"
    },
    "tags": []
   },
   "outputs": [],
   "source": [
    "# Lines below will give you a hint or solution code\n",
    "#q_1.hint()\n",
    "#q_1.solution()"
   ]
  },
  {
   "cell_type": "markdown",
   "id": "0ae7270c",
   "metadata": {
    "papermill": {
     "duration": 0.003799,
     "end_time": "2025-03-26T14:43:05.139773",
     "exception": false,
     "start_time": "2025-03-26T14:43:05.135974",
     "status": "completed"
    },
    "tags": []
   },
   "source": [
    "# 2) Compile #\n",
    "\n",
    "To prepare for training, compile the model with an appropriate loss and accuracy metric for the \"Car or Truck\" dataset."
   ]
  },
  {
   "cell_type": "code",
   "execution_count": 4,
   "id": "81b311ac",
   "metadata": {
    "execution": {
     "iopub.execute_input": "2025-03-26T14:43:05.149337Z",
     "iopub.status.busy": "2025-03-26T14:43:05.148485Z",
     "iopub.status.idle": "2025-03-26T14:43:05.385646Z",
     "shell.execute_reply": "2025-03-26T14:43:05.384587Z"
    },
    "lines_to_next_cell": 0,
    "papermill": {
     "duration": 0.244331,
     "end_time": "2025-03-26T14:43:05.387962",
     "exception": false,
     "start_time": "2025-03-26T14:43:05.143631",
     "status": "completed"
    },
    "tags": []
   },
   "outputs": [
    {
     "data": {
      "application/javascript": [
       "parent.postMessage({\"jupyterEvent\": \"custom.exercise_interaction\", \"data\": {\"outcomeType\": 1, \"valueTowardsCompletion\": 0.3333333333333333, \"interactionType\": 1, \"questionType\": 2, \"questionId\": \"2_Q2\", \"learnToolsVersion\": \"0.3.4\", \"failureMessage\": \"\", \"exceptionClass\": \"\", \"trace\": \"\"}}, \"*\")"
      ],
      "text/plain": [
       "<IPython.core.display.Javascript object>"
      ]
     },
     "metadata": {},
     "output_type": "display_data"
    },
    {
     "data": {
      "text/markdown": [
       "<span style=\"color:#33cc33\">Correct</span>"
      ],
      "text/plain": [
       "Correct"
      ]
     },
     "metadata": {},
     "output_type": "display_data"
    }
   ],
   "source": [
    "model.compile(\n",
    "    optimizer=tf.keras.optimizers.Adam(epsilon=0.01),\n",
    "    loss='binary_crossentropy',\n",
    "    metrics=['binary_accuracy'],\n",
    ")\n",
    "q_2.assert_check_passed()"
   ]
  },
  {
   "cell_type": "code",
   "execution_count": 5,
   "id": "b776a3b4",
   "metadata": {
    "execution": {
     "iopub.execute_input": "2025-03-26T14:43:05.397530Z",
     "iopub.status.busy": "2025-03-26T14:43:05.397194Z",
     "iopub.status.idle": "2025-03-26T14:43:05.401303Z",
     "shell.execute_reply": "2025-03-26T14:43:05.400481Z"
    },
    "lines_to_next_cell": 0,
    "papermill": {
     "duration": 0.011276,
     "end_time": "2025-03-26T14:43:05.403239",
     "exception": false,
     "start_time": "2025-03-26T14:43:05.391963",
     "status": "completed"
    },
    "tags": []
   },
   "outputs": [],
   "source": [
    "# Lines below will give you a hint or solution code\n",
    "#q_2.hint()\n",
    "#q_2.solution()"
   ]
  },
  {
   "cell_type": "markdown",
   "id": "5ff98470",
   "metadata": {
    "papermill": {
     "duration": 0.004044,
     "end_time": "2025-03-26T14:43:05.411475",
     "exception": false,
     "start_time": "2025-03-26T14:43:05.407431",
     "status": "completed"
    },
    "tags": []
   },
   "source": [
    "Finally, let's test the performance of this new model. First run this cell to fit the model to the training set."
   ]
  },
  {
   "cell_type": "code",
   "execution_count": 6,
   "id": "0caa30d1",
   "metadata": {
    "execution": {
     "iopub.execute_input": "2025-03-26T14:43:05.421108Z",
     "iopub.status.busy": "2025-03-26T14:43:05.420768Z",
     "iopub.status.idle": "2025-03-26T14:46:10.210837Z",
     "shell.execute_reply": "2025-03-26T14:46:10.209645Z"
    },
    "papermill": {
     "duration": 184.797382,
     "end_time": "2025-03-26T14:46:10.212908",
     "exception": false,
     "start_time": "2025-03-26T14:43:05.415526",
     "status": "completed"
    },
    "tags": []
   },
   "outputs": [
    {
     "name": "stdout",
     "output_type": "stream",
     "text": [
      "Epoch 1/50\n"
     ]
    },
    {
     "name": "stderr",
     "output_type": "stream",
     "text": [
      "WARNING: All log messages before absl::InitializeLog() is called are written to STDERR\n",
      "I0000 00:00:1743000190.451744      74 device_compiler.h:186] Compiled cluster using XLA!  This line is logged at most once for the lifetime of the process.\n"
     ]
    },
    {
     "name": "stdout",
     "output_type": "stream",
     "text": [
      "80/80 [==============================] - 19s 156ms/step - loss: 0.6762 - binary_accuracy: 0.5826 - val_loss: 0.6615 - val_binary_accuracy: 0.5922\n",
      "Epoch 2/50\n",
      "80/80 [==============================] - 3s 43ms/step - loss: 0.6605 - binary_accuracy: 0.6062 - val_loss: 0.6529 - val_binary_accuracy: 0.6137\n",
      "Epoch 3/50\n",
      "80/80 [==============================] - 3s 43ms/step - loss: 0.6568 - binary_accuracy: 0.6166 - val_loss: 0.6484 - val_binary_accuracy: 0.6195\n",
      "Epoch 4/50\n",
      "80/80 [==============================] - 3s 43ms/step - loss: 0.6507 - binary_accuracy: 0.6246 - val_loss: 0.6415 - val_binary_accuracy: 0.6365\n",
      "Epoch 5/50\n",
      "80/80 [==============================] - 3s 43ms/step - loss: 0.6470 - binary_accuracy: 0.6279 - val_loss: 0.6348 - val_binary_accuracy: 0.6397\n",
      "Epoch 6/50\n",
      "80/80 [==============================] - 3s 43ms/step - loss: 0.6299 - binary_accuracy: 0.6484 - val_loss: 0.6231 - val_binary_accuracy: 0.6458\n",
      "Epoch 7/50\n",
      "80/80 [==============================] - 3s 42ms/step - loss: 0.6206 - binary_accuracy: 0.6545 - val_loss: 0.6081 - val_binary_accuracy: 0.6559\n",
      "Epoch 8/50\n",
      "80/80 [==============================] - 3s 42ms/step - loss: 0.6061 - binary_accuracy: 0.6756 - val_loss: 0.5952 - val_binary_accuracy: 0.6716\n",
      "Epoch 9/50\n",
      "80/80 [==============================] - 3s 42ms/step - loss: 0.5873 - binary_accuracy: 0.6951 - val_loss: 0.5945 - val_binary_accuracy: 0.6696\n",
      "Epoch 10/50\n",
      "80/80 [==============================] - 3s 43ms/step - loss: 0.5722 - binary_accuracy: 0.7065 - val_loss: 0.5658 - val_binary_accuracy: 0.7028\n",
      "Epoch 11/50\n",
      "80/80 [==============================] - 3s 42ms/step - loss: 0.5567 - binary_accuracy: 0.7248 - val_loss: 0.5492 - val_binary_accuracy: 0.7171\n",
      "Epoch 12/50\n",
      "80/80 [==============================] - 3s 42ms/step - loss: 0.5300 - binary_accuracy: 0.7368 - val_loss: 0.5295 - val_binary_accuracy: 0.7319\n",
      "Epoch 13/50\n",
      "80/80 [==============================] - 3s 42ms/step - loss: 0.5085 - binary_accuracy: 0.7581 - val_loss: 0.5124 - val_binary_accuracy: 0.7472\n",
      "Epoch 14/50\n",
      "80/80 [==============================] - 3s 42ms/step - loss: 0.4847 - binary_accuracy: 0.7708 - val_loss: 0.4994 - val_binary_accuracy: 0.7549\n",
      "Epoch 15/50\n",
      "80/80 [==============================] - 3s 43ms/step - loss: 0.4574 - binary_accuracy: 0.7839 - val_loss: 0.4870 - val_binary_accuracy: 0.7591\n",
      "Epoch 16/50\n",
      "80/80 [==============================] - 3s 42ms/step - loss: 0.4334 - binary_accuracy: 0.7983 - val_loss: 0.4868 - val_binary_accuracy: 0.7595\n",
      "Epoch 17/50\n",
      "80/80 [==============================] - 3s 42ms/step - loss: 0.4095 - binary_accuracy: 0.8104 - val_loss: 0.4647 - val_binary_accuracy: 0.7771\n",
      "Epoch 18/50\n",
      "80/80 [==============================] - 3s 42ms/step - loss: 0.3694 - binary_accuracy: 0.8366 - val_loss: 0.4609 - val_binary_accuracy: 0.7824\n",
      "Epoch 19/50\n",
      "80/80 [==============================] - 3s 42ms/step - loss: 0.3537 - binary_accuracy: 0.8442 - val_loss: 0.4508 - val_binary_accuracy: 0.7951\n",
      "Epoch 20/50\n",
      "80/80 [==============================] - 3s 43ms/step - loss: 0.3272 - binary_accuracy: 0.8526 - val_loss: 0.4528 - val_binary_accuracy: 0.8036\n",
      "Epoch 21/50\n",
      "80/80 [==============================] - 3s 42ms/step - loss: 0.3166 - binary_accuracy: 0.8614 - val_loss: 0.4231 - val_binary_accuracy: 0.8076\n",
      "Epoch 22/50\n",
      "80/80 [==============================] - 3s 43ms/step - loss: 0.3057 - binary_accuracy: 0.8624 - val_loss: 0.4055 - val_binary_accuracy: 0.8295\n",
      "Epoch 23/50\n",
      "80/80 [==============================] - 3s 43ms/step - loss: 0.2609 - binary_accuracy: 0.8857 - val_loss: 0.4344 - val_binary_accuracy: 0.8190\n",
      "Epoch 24/50\n",
      "80/80 [==============================] - 3s 42ms/step - loss: 0.2129 - binary_accuracy: 0.9093 - val_loss: 0.4466 - val_binary_accuracy: 0.8181\n",
      "Epoch 25/50\n",
      "80/80 [==============================] - 3s 42ms/step - loss: 0.2150 - binary_accuracy: 0.9064 - val_loss: 0.4011 - val_binary_accuracy: 0.8359\n",
      "Epoch 26/50\n",
      "80/80 [==============================] - 3s 42ms/step - loss: 0.1988 - binary_accuracy: 0.9171 - val_loss: 0.4736 - val_binary_accuracy: 0.8319\n",
      "Epoch 27/50\n",
      "80/80 [==============================] - 3s 42ms/step - loss: 0.2081 - binary_accuracy: 0.9074 - val_loss: 0.4452 - val_binary_accuracy: 0.8078\n",
      "Epoch 28/50\n",
      "80/80 [==============================] - 3s 43ms/step - loss: 0.2116 - binary_accuracy: 0.9078 - val_loss: 0.4395 - val_binary_accuracy: 0.8361\n",
      "Epoch 29/50\n",
      "80/80 [==============================] - 3s 42ms/step - loss: 0.1711 - binary_accuracy: 0.9295 - val_loss: 0.5961 - val_binary_accuracy: 0.8109\n",
      "Epoch 30/50\n",
      "80/80 [==============================] - 3s 42ms/step - loss: 0.1659 - binary_accuracy: 0.9293 - val_loss: 0.5622 - val_binary_accuracy: 0.8244\n",
      "Epoch 31/50\n",
      "80/80 [==============================] - 3s 42ms/step - loss: 0.1425 - binary_accuracy: 0.9414 - val_loss: 0.6242 - val_binary_accuracy: 0.8066\n",
      "Epoch 32/50\n",
      "80/80 [==============================] - 3s 42ms/step - loss: 0.1281 - binary_accuracy: 0.9498 - val_loss: 0.5844 - val_binary_accuracy: 0.8371\n",
      "Epoch 33/50\n",
      "80/80 [==============================] - 3s 42ms/step - loss: 0.1245 - binary_accuracy: 0.9533 - val_loss: 0.5328 - val_binary_accuracy: 0.8396\n",
      "Epoch 34/50\n",
      "80/80 [==============================] - 3s 42ms/step - loss: 0.1172 - binary_accuracy: 0.9541 - val_loss: 0.5587 - val_binary_accuracy: 0.8373\n",
      "Epoch 35/50\n",
      "80/80 [==============================] - 3s 42ms/step - loss: 0.1239 - binary_accuracy: 0.9486 - val_loss: 0.4695 - val_binary_accuracy: 0.8487\n",
      "Epoch 36/50\n",
      "80/80 [==============================] - 3s 42ms/step - loss: 0.1265 - binary_accuracy: 0.9490 - val_loss: 0.5017 - val_binary_accuracy: 0.8311\n",
      "Epoch 37/50\n",
      "80/80 [==============================] - 3s 43ms/step - loss: 0.1078 - binary_accuracy: 0.9582 - val_loss: 0.5388 - val_binary_accuracy: 0.8339\n",
      "Epoch 38/50\n",
      "80/80 [==============================] - 3s 42ms/step - loss: 0.0936 - binary_accuracy: 0.9607 - val_loss: 0.5132 - val_binary_accuracy: 0.8309\n",
      "Epoch 39/50\n",
      "80/80 [==============================] - 3s 42ms/step - loss: 0.0753 - binary_accuracy: 0.9744 - val_loss: 0.6009 - val_binary_accuracy: 0.8480\n",
      "Epoch 40/50\n",
      "80/80 [==============================] - 3s 42ms/step - loss: 0.0689 - binary_accuracy: 0.9760 - val_loss: 0.6099 - val_binary_accuracy: 0.8513\n",
      "Epoch 41/50\n",
      "80/80 [==============================] - 3s 42ms/step - loss: 0.0711 - binary_accuracy: 0.9736 - val_loss: 0.6691 - val_binary_accuracy: 0.8398\n",
      "Epoch 42/50\n",
      "80/80 [==============================] - 3s 42ms/step - loss: 0.0549 - binary_accuracy: 0.9810 - val_loss: 0.6202 - val_binary_accuracy: 0.8545\n",
      "Epoch 43/50\n",
      "80/80 [==============================] - 3s 42ms/step - loss: 0.0420 - binary_accuracy: 0.9851 - val_loss: 0.6910 - val_binary_accuracy: 0.8527\n",
      "Epoch 44/50\n",
      "80/80 [==============================] - 3s 42ms/step - loss: 0.0469 - binary_accuracy: 0.9840 - val_loss: 0.6781 - val_binary_accuracy: 0.8535\n",
      "Epoch 45/50\n",
      "80/80 [==============================] - 3s 42ms/step - loss: 0.0382 - binary_accuracy: 0.9891 - val_loss: 0.8115 - val_binary_accuracy: 0.8464\n",
      "Epoch 46/50\n",
      "80/80 [==============================] - 3s 42ms/step - loss: 0.0363 - binary_accuracy: 0.9871 - val_loss: 0.7739 - val_binary_accuracy: 0.8489\n",
      "Epoch 47/50\n",
      "80/80 [==============================] - 3s 42ms/step - loss: 0.0335 - binary_accuracy: 0.9883 - val_loss: 0.8017 - val_binary_accuracy: 0.8561\n",
      "Epoch 48/50\n",
      "80/80 [==============================] - 3s 42ms/step - loss: 0.0308 - binary_accuracy: 0.9920 - val_loss: 0.8207 - val_binary_accuracy: 0.8557\n",
      "Epoch 49/50\n",
      "80/80 [==============================] - 3s 42ms/step - loss: 0.0298 - binary_accuracy: 0.9900 - val_loss: 0.8009 - val_binary_accuracy: 0.8582\n",
      "Epoch 50/50\n",
      "80/80 [==============================] - 3s 42ms/step - loss: 0.0320 - binary_accuracy: 0.9898 - val_loss: 0.7808 - val_binary_accuracy: 0.8527\n"
     ]
    }
   ],
   "source": [
    "history = model.fit(\n",
    "    ds_train,\n",
    "    validation_data=ds_valid,\n",
    "    epochs=50,\n",
    ")"
   ]
  },
  {
   "cell_type": "markdown",
   "id": "f811aaec",
   "metadata": {
    "papermill": {
     "duration": 0.108492,
     "end_time": "2025-03-26T14:46:10.429066",
     "exception": false,
     "start_time": "2025-03-26T14:46:10.320574",
     "status": "completed"
    },
    "tags": []
   },
   "source": [
    "And now run the cell below to plot the loss and metric curves for this training run."
   ]
  },
  {
   "cell_type": "code",
   "execution_count": 7,
   "id": "031fba59",
   "metadata": {
    "execution": {
     "iopub.execute_input": "2025-03-26T14:46:10.649479Z",
     "iopub.status.busy": "2025-03-26T14:46:10.648843Z",
     "iopub.status.idle": "2025-03-26T14:46:11.303369Z",
     "shell.execute_reply": "2025-03-26T14:46:11.302313Z"
    },
    "papermill": {
     "duration": 0.769654,
     "end_time": "2025-03-26T14:46:11.305359",
     "exception": false,
     "start_time": "2025-03-26T14:46:10.535705",
     "status": "completed"
    },
    "tags": []
   },
   "outputs": [
    {
     "data": {
      "image/png": "[encoded data removed]",
      "text/plain": [
       "<Figure size 640x480 with 1 Axes>"
      ]
     },
     "metadata": {},
     "output_type": "display_data"
    },
    {
     "data": {
      "image/png": "[encoded data removed]",
      "text/plain": [
       "<Figure size 640x480 with 1 Axes>"
      ]
     },
     "metadata": {},
     "output_type": "display_data"
    }
   ],
   "source": [
    "import pandas as pd\n",
    "history_frame = pd.DataFrame(history.history)\n",
    "history_frame.loc[:, ['loss', 'val_loss']].plot()\n",
    "history_frame.loc[:, ['binary_accuracy', 'val_binary_accuracy']].plot();"
   ]
  },
  {
   "cell_type": "markdown",
   "id": "818e4de6",
   "metadata": {
    "papermill": {
     "duration": 0.115521,
     "end_time": "2025-03-26T14:46:11.532941",
     "exception": false,
     "start_time": "2025-03-26T14:46:11.417420",
     "status": "completed"
    },
    "tags": []
   },
   "source": [
    "# 3) Train the Model #\n",
    "\n",
    "How would you interpret these training curves? Did this model improve upon the model from the tutorial?"
   ]
  },
  {
   "cell_type": "code",
   "execution_count": 8,
   "id": "b6ee4aec",
   "metadata": {
    "execution": {
     "iopub.execute_input": "2025-03-26T14:46:11.763271Z",
     "iopub.status.busy": "2025-03-26T14:46:11.762928Z",
     "iopub.status.idle": "2025-03-26T14:46:11.770877Z",
     "shell.execute_reply": "2025-03-26T14:46:11.769954Z"
    },
    "lines_to_next_cell": 0,
    "papermill": {
     "duration": 0.12524,
     "end_time": "2025-03-26T14:46:11.772589",
     "exception": false,
     "start_time": "2025-03-26T14:46:11.647349",
     "status": "completed"
    },
    "tags": []
   },
   "outputs": [
    {
     "data": {
      "application/javascript": [
       "parent.postMessage({\"jupyterEvent\": \"custom.exercise_interaction\", \"data\": {\"outcomeType\": 1, \"valueTowardsCompletion\": 0.3333333333333333, \"interactionType\": 1, \"questionType\": 4, \"questionId\": \"3_Q3\", \"learnToolsVersion\": \"0.3.4\", \"failureMessage\": \"\", \"exceptionClass\": \"\", \"trace\": \"\"}}, \"*\")"
      ],
      "text/plain": [
       "<IPython.core.display.Javascript object>"
      ]
     },
     "metadata": {},
     "output_type": "display_data"
    },
    {
     "data": {
      "text/markdown": [
       "<span style=\"color:#33cc33\">Correct:</span> \n",
       "\n",
       "\n",
       "The learning curves for the model from the tutorial diverged fairly rapidly. This would indicate that it was prone to overfitting and in need of some regularization. The additional layer in our new model would make it even more prone to overfitting. However, adding some regularization with the `Dropout` layer helped prevent this. These changes improved the validation accuracy of the model by several points.\n"
      ],
      "text/plain": [
       "Correct: \n",
       "\n",
       "\n",
       "The learning curves for the model from the tutorial diverged fairly rapidly. This would indicate that it was prone to overfitting and in need of some regularization. The additional layer in our new model would make it even more prone to overfitting. However, adding some regularization with the `Dropout` layer helped prevent this. These changes improved the validation accuracy of the model by several points."
      ]
     },
     "metadata": {},
     "output_type": "display_data"
    }
   ],
   "source": [
    "# View the solution (Run this code cell to receive credit!)\n",
    "q_3.check()"
   ]
  },
  {
   "cell_type": "markdown",
   "id": "2cd88e6b",
   "metadata": {
    "papermill": {
     "duration": 0.1165,
     "end_time": "2025-03-26T14:46:12.005910",
     "exception": false,
     "start_time": "2025-03-26T14:46:11.889410",
     "status": "completed"
    },
    "tags": []
   },
   "source": [
    "# Conclusion #\n",
    "\n",
    "These exercises showed you how to design a custom convolutional network to solve a specific classification problem. Though most models these days will be built on top of a pretrained base, it certain circumstances a smaller custom convnet might still be preferable -- such as with a smaller or unusual dataset or when computing resources are very limited. As you saw here, for certain problems they can perform just as well as a pretrained model.\n",
    "\n",
    "# Keep Going #\n",
    "\n",
    "Continue on to [**Lesson 6**](https://www.kaggle.com/ryanholbrook/data-augmentation), where you'll learn a widely-used technique that can give a boost to your training data: **data augmentation**."
   ]
  },
  {
   "cell_type": "markdown",
   "id": "af8e5b8f",
   "metadata": {
    "papermill": {
     "duration": 0.111908,
     "end_time": "2025-03-26T14:46:12.231835",
     "exception": false,
     "start_time": "2025-03-26T14:46:12.119927",
     "status": "completed"
    },
    "tags": []
   },
   "source": [
    "---\n",
    "\n",
    "\n",
    "\n",
    "\n",
    "*Have questions or comments? Visit the [course discussion forum](https://www.kaggle.com/learn/computer-vision/discussion) to chat with other learners.*"
   ]
  }
 ],
 "metadata": {
  "jupytext": {
   "formats": "md,ipynb"
  },
  "kaggle": {
   "accelerator": "gpu",
   "dataSources": [
    {
     "datasetId": 708136,
     "sourceId": 1338830,
     "sourceType": "datasetVersion"
    },
    {
     "datasetId": 701538,
     "sourceId": 1363948,
     "sourceType": "datasetVersion"
    },
    {
     "datasetId": 878523,
     "sourceId": 1495782,
     "sourceType": "datasetVersion"
    }
   ],
   "dockerImageVersionId": 30648,
   "isGpuEnabled": true,
   "isInternetEnabled": false,
   "language": "python",
   "sourceType": "notebook"
  },
  "kernelspec": {
   "display_name": "Python 3",
   "language": "python",
   "name": "python3"
  },
  "language_info": {
   "codemirror_mode": {
    "name": "ipython",
    "version": 3
   },
   "file_extension": ".py",
   "mimetype": "text/x-python",
   "name": "python",
   "nbconvert_exporter": "python",
   "pygments_lexer": "ipython3",
   "version": "3.10.13"
  },
  "papermill": {
   "default_parameters": {},
   "duration": 222.519259,
   "end_time": "2025-03-26T14:46:15.345175",
   "environment_variables": {},
   "exception": null,
   "input_path": "__notebook__.ipynb",
   "output_path": "__notebook__.ipynb",
   "parameters": {},
   "start_time": "2025-03-26T14:42:32.825916",
   "version": "2.5.0"
  }
 },
 "nbformat": 4,
 "nbformat_minor": 5
}
